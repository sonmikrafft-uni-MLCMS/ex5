{
 "cells": [
  {
   "cell_type": "markdown",
   "metadata": {},
   "source": [
    "# Task 1 - Approximating functions"
   ]
  },
  {
   "cell_type": "markdown",
   "metadata": {},
   "source": [
    "TODO: Possibly think of using cross validation to get best L and epsilon.\n",
    "see https://scikit-learn.org/stable/modules/generated/sklearn.model_selection.RandomizedSearchCV.html"
   ]
  },
  {
   "cell_type": "code",
   "execution_count": 1,
   "metadata": {},
   "outputs": [],
   "source": [
    "%load_ext autoreload\n",
    "%autoreload 2\n",
    "\n",
    "import numpy as np\n",
    "import matplotlib.pyplot as plt\n",
    "\n",
    "from scipy.stats import randint\n",
    "\n",
    "from sklearn.utils.fixes import loguniform\n",
    "\n",
    "from helpers.data import load_linear_dataset, load_nonlinear_dataset\n",
    "from helpers.models import RidgeRegression, RBFRegression, get_best_model\n",
    "from helpers.plot import plot_pandas_dataset\n",
    "from helpers.utils import augment_with_prediction\n",
    "\n",
    "np.random.seed(69)"
   ]
  },
  {
   "cell_type": "markdown",
   "metadata": {},
   "source": [
    "### 1 - Download and inspect the datasets"
   ]
  },
  {
   "cell_type": "markdown",
   "metadata": {},
   "source": [
    "##### 1.1 linear dataset"
   ]
  },
  {
   "cell_type": "code",
   "execution_count": 2,
   "metadata": {},
   "outputs": [
    {
     "data": {
      "text/html": [
       "<div>\n",
       "<style scoped>\n",
       "    .dataframe tbody tr th:only-of-type {\n",
       "        vertical-align: middle;\n",
       "    }\n",
       "\n",
       "    .dataframe tbody tr th {\n",
       "        vertical-align: top;\n",
       "    }\n",
       "\n",
       "    .dataframe thead th {\n",
       "        text-align: right;\n",
       "    }\n",
       "</style>\n",
       "<table border=\"1\" class=\"dataframe\">\n",
       "  <thead>\n",
       "    <tr style=\"text-align: right;\">\n",
       "      <th></th>\n",
       "      <th>x</th>\n",
       "      <th>y</th>\n",
       "    </tr>\n",
       "  </thead>\n",
       "  <tbody>\n",
       "    <tr>\n",
       "      <th>0</th>\n",
       "      <td>1.624345</td>\n",
       "      <td>1.218257</td>\n",
       "    </tr>\n",
       "    <tr>\n",
       "      <th>1</th>\n",
       "      <td>-0.611756</td>\n",
       "      <td>-0.458842</td>\n",
       "    </tr>\n",
       "    <tr>\n",
       "      <th>2</th>\n",
       "      <td>-0.528172</td>\n",
       "      <td>-0.396124</td>\n",
       "    </tr>\n",
       "    <tr>\n",
       "      <th>3</th>\n",
       "      <td>-1.072969</td>\n",
       "      <td>-0.804730</td>\n",
       "    </tr>\n",
       "    <tr>\n",
       "      <th>4</th>\n",
       "      <td>0.865408</td>\n",
       "      <td>0.649041</td>\n",
       "    </tr>\n",
       "    <tr>\n",
       "      <th>...</th>\n",
       "      <td>...</td>\n",
       "      <td>...</td>\n",
       "    </tr>\n",
       "    <tr>\n",
       "      <th>995</th>\n",
       "      <td>-0.116444</td>\n",
       "      <td>-0.087331</td>\n",
       "    </tr>\n",
       "    <tr>\n",
       "      <th>996</th>\n",
       "      <td>-2.277298</td>\n",
       "      <td>-1.707968</td>\n",
       "    </tr>\n",
       "    <tr>\n",
       "      <th>997</th>\n",
       "      <td>-0.069625</td>\n",
       "      <td>-0.052228</td>\n",
       "    </tr>\n",
       "    <tr>\n",
       "      <th>998</th>\n",
       "      <td>0.353870</td>\n",
       "      <td>0.265409</td>\n",
       "    </tr>\n",
       "    <tr>\n",
       "      <th>999</th>\n",
       "      <td>-0.186955</td>\n",
       "      <td>-0.140202</td>\n",
       "    </tr>\n",
       "  </tbody>\n",
       "</table>\n",
       "<p>1000 rows × 2 columns</p>\n",
       "</div>"
      ],
      "text/plain": [
       "            x         y\n",
       "0    1.624345  1.218257\n",
       "1   -0.611756 -0.458842\n",
       "2   -0.528172 -0.396124\n",
       "3   -1.072969 -0.804730\n",
       "4    0.865408  0.649041\n",
       "..        ...       ...\n",
       "995 -0.116444 -0.087331\n",
       "996 -2.277298 -1.707968\n",
       "997 -0.069625 -0.052228\n",
       "998  0.353870  0.265409\n",
       "999 -0.186955 -0.140202\n",
       "\n",
       "[1000 rows x 2 columns]"
      ]
     },
     "execution_count": 2,
     "metadata": {},
     "output_type": "execute_result"
    }
   ],
   "source": [
    "df_linear = load_linear_dataset()\n",
    "df_linear\n"
   ]
  },
  {
   "cell_type": "code",
   "execution_count": 3,
   "metadata": {},
   "outputs": [
    {
     "name": "stderr",
     "output_type": "stream",
     "text": [
      "No handles with labels found to put in legend.\n"
     ]
    },
    {
     "data": {
      "image/png": "[encoded data removed]",
      "text/plain": [
       "<Figure size 864x576 with 1 Axes>"
      ]
     },
     "metadata": {
      "needs_background": "light"
     },
     "output_type": "display_data"
    }
   ],
   "source": [
    "_ = plot_pandas_dataset(df_linear, \"x\", \"y\", \"Linear dataset\", x=\"x\", y=\"y\", marker=\"o\", alpha=0.5)\n"
   ]
  },
  {
   "cell_type": "markdown",
   "metadata": {},
   "source": [
    "##### 1.2 nonlinear dataset"
   ]
  },
  {
   "cell_type": "code",
   "execution_count": 4,
   "metadata": {},
   "outputs": [
    {
     "data": {
      "text/html": [
       "<div>\n",
       "<style scoped>\n",
       "    .dataframe tbody tr th:only-of-type {\n",
       "        vertical-align: middle;\n",
       "    }\n",
       "\n",
       "    .dataframe tbody tr th {\n",
       "        vertical-align: top;\n",
       "    }\n",
       "\n",
       "    .dataframe thead th {\n",
       "        text-align: right;\n",
       "    }\n",
       "</style>\n",
       "<table border=\"1\" class=\"dataframe\">\n",
       "  <thead>\n",
       "    <tr style=\"text-align: right;\">\n",
       "      <th></th>\n",
       "      <th>x</th>\n",
       "      <th>y</th>\n",
       "    </tr>\n",
       "  </thead>\n",
       "  <tbody>\n",
       "    <tr>\n",
       "      <th>0</th>\n",
       "      <td>1.624345</td>\n",
       "      <td>-1.732828</td>\n",
       "    </tr>\n",
       "    <tr>\n",
       "      <th>1</th>\n",
       "      <td>-0.611756</td>\n",
       "      <td>-0.709996</td>\n",
       "    </tr>\n",
       "    <tr>\n",
       "      <th>2</th>\n",
       "      <td>-0.528172</td>\n",
       "      <td>-0.630857</td>\n",
       "    </tr>\n",
       "    <tr>\n",
       "      <th>3</th>\n",
       "      <td>-1.072969</td>\n",
       "      <td>-0.330732</td>\n",
       "    </tr>\n",
       "    <tr>\n",
       "      <th>4</th>\n",
       "      <td>0.865408</td>\n",
       "      <td>0.399216</td>\n",
       "    </tr>\n",
       "    <tr>\n",
       "      <th>...</th>\n",
       "      <td>...</td>\n",
       "      <td>...</td>\n",
       "    </tr>\n",
       "    <tr>\n",
       "      <th>995</th>\n",
       "      <td>-0.116444</td>\n",
       "      <td>0.387484</td>\n",
       "    </tr>\n",
       "    <tr>\n",
       "      <th>996</th>\n",
       "      <td>-2.277298</td>\n",
       "      <td>-0.639435</td>\n",
       "    </tr>\n",
       "    <tr>\n",
       "      <th>997</th>\n",
       "      <td>-0.069625</td>\n",
       "      <td>0.535373</td>\n",
       "    </tr>\n",
       "    <tr>\n",
       "      <th>998</th>\n",
       "      <td>0.353870</td>\n",
       "      <td>1.443023</td>\n",
       "    </tr>\n",
       "    <tr>\n",
       "      <th>999</th>\n",
       "      <td>-0.186955</td>\n",
       "      <td>0.166275</td>\n",
       "    </tr>\n",
       "  </tbody>\n",
       "</table>\n",
       "<p>1000 rows × 2 columns</p>\n",
       "</div>"
      ],
      "text/plain": [
       "            x         y\n",
       "0    1.624345 -1.732828\n",
       "1   -0.611756 -0.709996\n",
       "2   -0.528172 -0.630857\n",
       "3   -1.072969 -0.330732\n",
       "4    0.865408  0.399216\n",
       "..        ...       ...\n",
       "995 -0.116444  0.387484\n",
       "996 -2.277298 -0.639435\n",
       "997 -0.069625  0.535373\n",
       "998  0.353870  1.443023\n",
       "999 -0.186955  0.166275\n",
       "\n",
       "[1000 rows x 2 columns]"
      ]
     },
     "execution_count": 4,
     "metadata": {},
     "output_type": "execute_result"
    }
   ],
   "source": [
    "df_nonlinear = load_nonlinear_dataset()\n",
    "df_nonlinear\n"
   ]
  },
  {
   "cell_type": "code",
   "execution_count": 5,
   "metadata": {},
   "outputs": [
    {
     "name": "stderr",
     "output_type": "stream",
     "text": [
      "No handles with labels found to put in legend.\n"
     ]
    },
    {
     "data": {
      "image/png": "[encoded data removed]",
      "text/plain": [
       "<Figure size 864x576 with 1 Axes>"
      ]
     },
     "metadata": {
      "needs_background": "light"
     },
     "output_type": "display_data"
    }
   ],
   "source": [
    "_ = plot_pandas_dataset(df_nonlinear, \"x\", \"y\", \"Nonlinear dataset\", x=\"x\", y=\"y\", marker=\"o\", alpha=0.5)\n"
   ]
  },
  {
   "cell_type": "markdown",
   "metadata": {},
   "source": [
    "### 2. Approximate both dataset with a linear regression model"
   ]
  },
  {
   "cell_type": "markdown",
   "metadata": {},
   "source": [
    "##### 2.1 Linear dataset approximated with linear regression model"
   ]
  },
  {
   "cell_type": "code",
   "execution_count": 6,
   "metadata": {},
   "outputs": [
    {
     "name": "stdout",
     "output_type": "stream",
     "text": [
      "Fitting 5 folds for each of 40 candidates, totalling 200 fits\n",
      "Best param setting achieved r2 score during cval:\n",
      "0.9999999998015614\n",
      "Best params:\n",
      "{'lamb': 1.9602147192334105e-06}\n",
      "Scores of best estimator refitted on full data:\n",
      "{'mae': 8.269183929936736e-06,\n",
      " 'mape': 9.98492006738974e-05,\n",
      " 'mse': 1.0611679715515534e-10,\n",
      " 'r2': 0.9999999998039713,\n",
      " 'rmse': 1.0301300750640927e-05}\n"
     ]
    }
   ],
   "source": [
    "param_grid_linear_regression = {\"lamb\": loguniform(1e-6, 1e-1)}\n",
    "rr = RidgeRegression()\n",
    "best_model = get_best_model(param_grid_linear_regression, rr, df_linear.x.values, df_linear.y.values)\n"
   ]
  },
  {
   "cell_type": "code",
   "execution_count": 7,
   "metadata": {},
   "outputs": [
    {
     "data": {
      "text/html": [
       "<div>\n",
       "<style scoped>\n",
       "    .dataframe tbody tr th:only-of-type {\n",
       "        vertical-align: middle;\n",
       "    }\n",
       "\n",
       "    .dataframe tbody tr th {\n",
       "        vertical-align: top;\n",
       "    }\n",
       "\n",
       "    .dataframe thead th {\n",
       "        text-align: right;\n",
       "    }\n",
       "</style>\n",
       "<table border=\"1\" class=\"dataframe\">\n",
       "  <thead>\n",
       "    <tr style=\"text-align: right;\">\n",
       "      <th></th>\n",
       "      <th>y</th>\n",
       "      <th>y_pred</th>\n",
       "    </tr>\n",
       "    <tr>\n",
       "      <th>x</th>\n",
       "      <th></th>\n",
       "      <th></th>\n",
       "    </tr>\n",
       "  </thead>\n",
       "  <tbody>\n",
       "    <tr>\n",
       "      <th>1.624345</th>\n",
       "      <td>1.218257</td>\n",
       "      <td>1.218259</td>\n",
       "    </tr>\n",
       "    <tr>\n",
       "      <th>-0.611756</th>\n",
       "      <td>-0.458842</td>\n",
       "      <td>-0.458817</td>\n",
       "    </tr>\n",
       "    <tr>\n",
       "      <th>-0.528172</th>\n",
       "      <td>-0.396124</td>\n",
       "      <td>-0.396129</td>\n",
       "    </tr>\n",
       "    <tr>\n",
       "      <th>-1.072969</th>\n",
       "      <td>-0.804730</td>\n",
       "      <td>-0.804727</td>\n",
       "    </tr>\n",
       "    <tr>\n",
       "      <th>0.865408</th>\n",
       "      <td>0.649041</td>\n",
       "      <td>0.649056</td>\n",
       "    </tr>\n",
       "    <tr>\n",
       "      <th>...</th>\n",
       "      <td>...</td>\n",
       "      <td>...</td>\n",
       "    </tr>\n",
       "    <tr>\n",
       "      <th>-0.116444</th>\n",
       "      <td>-0.087331</td>\n",
       "      <td>-0.087333</td>\n",
       "    </tr>\n",
       "    <tr>\n",
       "      <th>-2.277298</th>\n",
       "      <td>-1.707968</td>\n",
       "      <td>-1.707974</td>\n",
       "    </tr>\n",
       "    <tr>\n",
       "      <th>-0.069625</th>\n",
       "      <td>-0.052228</td>\n",
       "      <td>-0.052218</td>\n",
       "    </tr>\n",
       "    <tr>\n",
       "      <th>0.353870</th>\n",
       "      <td>0.265409</td>\n",
       "      <td>0.265403</td>\n",
       "    </tr>\n",
       "    <tr>\n",
       "      <th>-0.186955</th>\n",
       "      <td>-0.140202</td>\n",
       "      <td>-0.140216</td>\n",
       "    </tr>\n",
       "  </tbody>\n",
       "</table>\n",
       "<p>1000 rows × 2 columns</p>\n",
       "</div>"
      ],
      "text/plain": [
       "                  y    y_pred\n",
       "x                            \n",
       " 1.624345  1.218257  1.218259\n",
       "-0.611756 -0.458842 -0.458817\n",
       "-0.528172 -0.396124 -0.396129\n",
       "-1.072969 -0.804730 -0.804727\n",
       " 0.865408  0.649041  0.649056\n",
       "...             ...       ...\n",
       "-0.116444 -0.087331 -0.087333\n",
       "-2.277298 -1.707968 -1.707974\n",
       "-0.069625 -0.052228 -0.052218\n",
       " 0.353870  0.265409  0.265403\n",
       "-0.186955 -0.140202 -0.140216\n",
       "\n",
       "[1000 rows x 2 columns]"
      ]
     },
     "execution_count": 7,
     "metadata": {},
     "output_type": "execute_result"
    }
   ],
   "source": [
    "y_pred = best_model.predict(df_linear.x.values)\n",
    "df_linear_augmented = augment_with_prediction(df_linear, y_pred)\n",
    "df_linear_augmented\n"
   ]
  },
  {
   "cell_type": "code",
   "execution_count": 8,
   "metadata": {},
   "outputs": [
    {
     "data": {
      "image/png": "[encoded data removed]",
      "text/plain": [
       "<Figure size 504x360 with 1 Axes>"
      ]
     },
     "metadata": {
      "needs_background": "light"
     },
     "output_type": "display_data"
    }
   ],
   "source": [
    "fig, ax = plt.subplots(1, 1, figsize=(7, 5))\n",
    "title = r\"Linear dataset - fitted with Ridge Regression, $\\lambda$= {:.2e}\".format(best_model.lamb)\n",
    "ax = plot_pandas_dataset(df_linear_augmented, \"x\", \"y\", title, ax=ax)\n",
    "fig.savefig(\"plots/1_linear_dataset_linear_regression.pdf\", bbox_inches=\"tight\")\n"
   ]
  },
  {
   "cell_type": "markdown",
   "metadata": {},
   "source": [
    "##### 2.2 Nonlinear dataset approximated with linear regression model"
   ]
  },
  {
   "cell_type": "code",
   "execution_count": 9,
   "metadata": {},
   "outputs": [
    {
     "name": "stdout",
     "output_type": "stream",
     "text": [
      "Fitting 5 folds for each of 100 candidates, totalling 500 fits\n",
      "Best param setting achieved r2 score during cval:\n",
      "-0.03301146229251066\n",
      "Best params:\n",
      "{'lamb': 0.08185813440663255}\n",
      "Scores of best estimator refitted on full data:\n",
      "{'mae': 0.736100225222222,\n",
      " 'mape': 1.095018624158038,\n",
      " 'mse': 0.7748919879088906,\n",
      " 'r2': -0.015115828406836895,\n",
      " 'rmse': 0.8802794941999333}\n"
     ]
    }
   ],
   "source": [
    "param_grid_linear_regression = {\"lamb\": loguniform(1e-6, 1e-1)}\n",
    "rr = RidgeRegression()\n",
    "best_model = get_best_model(param_grid_linear_regression, rr, df_nonlinear.x.values, df_nonlinear.y.values, n_iter=100)\n"
   ]
  },
  {
   "cell_type": "code",
   "execution_count": 10,
   "metadata": {},
   "outputs": [
    {
     "data": {
      "text/html": [
       "<div>\n",
       "<style scoped>\n",
       "    .dataframe tbody tr th:only-of-type {\n",
       "        vertical-align: middle;\n",
       "    }\n",
       "\n",
       "    .dataframe tbody tr th {\n",
       "        vertical-align: top;\n",
       "    }\n",
       "\n",
       "    .dataframe thead th {\n",
       "        text-align: right;\n",
       "    }\n",
       "</style>\n",
       "<table border=\"1\" class=\"dataframe\">\n",
       "  <thead>\n",
       "    <tr style=\"text-align: right;\">\n",
       "      <th></th>\n",
       "      <th>y</th>\n",
       "      <th>y_pred</th>\n",
       "    </tr>\n",
       "    <tr>\n",
       "      <th>x</th>\n",
       "      <th></th>\n",
       "      <th></th>\n",
       "    </tr>\n",
       "  </thead>\n",
       "  <tbody>\n",
       "    <tr>\n",
       "      <th>1.624345</th>\n",
       "      <td>-1.732828</td>\n",
       "      <td>0.053941</td>\n",
       "    </tr>\n",
       "    <tr>\n",
       "      <th>-0.611756</th>\n",
       "      <td>-0.709996</td>\n",
       "      <td>-0.020315</td>\n",
       "    </tr>\n",
       "    <tr>\n",
       "      <th>-0.528172</th>\n",
       "      <td>-0.630857</td>\n",
       "      <td>-0.017539</td>\n",
       "    </tr>\n",
       "    <tr>\n",
       "      <th>-1.072969</th>\n",
       "      <td>-0.330732</td>\n",
       "      <td>-0.035631</td>\n",
       "    </tr>\n",
       "    <tr>\n",
       "      <th>0.865408</th>\n",
       "      <td>0.399216</td>\n",
       "      <td>0.028738</td>\n",
       "    </tr>\n",
       "    <tr>\n",
       "      <th>...</th>\n",
       "      <td>...</td>\n",
       "      <td>...</td>\n",
       "    </tr>\n",
       "    <tr>\n",
       "      <th>-0.116444</th>\n",
       "      <td>0.387484</td>\n",
       "      <td>-0.003867</td>\n",
       "    </tr>\n",
       "    <tr>\n",
       "      <th>-2.277298</th>\n",
       "      <td>-0.639435</td>\n",
       "      <td>-0.075623</td>\n",
       "    </tr>\n",
       "    <tr>\n",
       "      <th>-0.069625</th>\n",
       "      <td>0.535373</td>\n",
       "      <td>-0.002312</td>\n",
       "    </tr>\n",
       "    <tr>\n",
       "      <th>0.353870</th>\n",
       "      <td>1.443023</td>\n",
       "      <td>0.011751</td>\n",
       "    </tr>\n",
       "    <tr>\n",
       "      <th>-0.186955</th>\n",
       "      <td>0.166275</td>\n",
       "      <td>-0.006208</td>\n",
       "    </tr>\n",
       "  </tbody>\n",
       "</table>\n",
       "<p>1000 rows × 2 columns</p>\n",
       "</div>"
      ],
      "text/plain": [
       "                  y    y_pred\n",
       "x                            \n",
       " 1.624345 -1.732828  0.053941\n",
       "-0.611756 -0.709996 -0.020315\n",
       "-0.528172 -0.630857 -0.017539\n",
       "-1.072969 -0.330732 -0.035631\n",
       " 0.865408  0.399216  0.028738\n",
       "...             ...       ...\n",
       "-0.116444  0.387484 -0.003867\n",
       "-2.277298 -0.639435 -0.075623\n",
       "-0.069625  0.535373 -0.002312\n",
       " 0.353870  1.443023  0.011751\n",
       "-0.186955  0.166275 -0.006208\n",
       "\n",
       "[1000 rows x 2 columns]"
      ]
     },
     "execution_count": 10,
     "metadata": {},
     "output_type": "execute_result"
    }
   ],
   "source": [
    "y_pred = best_model.predict(df_nonlinear.x.values)\n",
    "df_nonlinear_augmented = augment_with_prediction(df_nonlinear, y_pred)\n",
    "df_nonlinear_augmented\n"
   ]
  },
  {
   "cell_type": "code",
   "execution_count": 11,
   "metadata": {},
   "outputs": [
    {
     "data": {
      "image/png": "[encoded data removed]",
      "text/plain": [
       "<Figure size 504x360 with 1 Axes>"
      ]
     },
     "metadata": {
      "needs_background": "light"
     },
     "output_type": "display_data"
    }
   ],
   "source": [
    "fig, ax = plt.subplots(1, 1, figsize=(7, 5))\n",
    "title = r\"Nonlinear dataset - fitted with Ridge Regression, $\\lambda$= {:.2e}\".format(best_model.lamb)\n",
    "ax = plot_pandas_dataset(df_nonlinear_augmented, \"x\", \"y\", title, ax=ax)\n",
    "fig.savefig(\"plots/1_nonlinear_dataset_linear_regression.pdf\", bbox_inches=\"tight\")\n"
   ]
  },
  {
   "cell_type": "markdown",
   "metadata": {},
   "source": [
    "### 3. Approximate both datasets with RBF regression"
   ]
  },
  {
   "cell_type": "markdown",
   "metadata": {},
   "source": [
    "##### 3.1 Linear dataset approximated with RBF regression"
   ]
  },
  {
   "cell_type": "code",
   "execution_count": 12,
   "metadata": {},
   "outputs": [
    {
     "name": "stdout",
     "output_type": "stream",
     "text": [
      "Fitting 5 folds for each of 100 candidates, totalling 500 fits\n",
      "Best param setting achieved r2 score during cval:\n",
      "0.9999999674064904\n",
      "Best params:\n",
      "{'L': 111, 'eps': 14.416664208796794, 'lamb': 0.0009607218793996042}\n",
      "Scores of best estimator refitted on full data:\n",
      "{'mae': 0.005534909544175919,\n",
      " 'mape': 0.016396030180325198,\n",
      " 'mse': 9.982860958350952e-05,\n",
      " 'r2': 0.9998155874154019,\n",
      " 'rmse': 0.009991426804191158}\n"
     ]
    }
   ],
   "source": [
    "param_grid_rbf_regression = {\n",
    "    \"lamb\": loguniform(1e-6, 1e-1),\n",
    "    \"eps\": loguniform(1e-2, 1e2),\n",
    "    \"L\": randint(1, df_linear.shape[0]),\n",
    "}\n",
    "rbf = RBFRegression()\n",
    "best_model = get_best_model(param_grid_rbf_regression, rbf, df_linear.x.values, df_linear.y.values, n_iter=100)\n"
   ]
  },
  {
   "cell_type": "code",
   "execution_count": 13,
   "metadata": {},
   "outputs": [
    {
     "data": {
      "text/html": [
       "<div>\n",
       "<style scoped>\n",
       "    .dataframe tbody tr th:only-of-type {\n",
       "        vertical-align: middle;\n",
       "    }\n",
       "\n",
       "    .dataframe tbody tr th {\n",
       "        vertical-align: top;\n",
       "    }\n",
       "\n",
       "    .dataframe thead th {\n",
       "        text-align: right;\n",
       "    }\n",
       "</style>\n",
       "<table border=\"1\" class=\"dataframe\">\n",
       "  <thead>\n",
       "    <tr style=\"text-align: right;\">\n",
       "      <th></th>\n",
       "      <th>y</th>\n",
       "      <th>y_pred</th>\n",
       "    </tr>\n",
       "    <tr>\n",
       "      <th>x</th>\n",
       "      <th></th>\n",
       "      <th></th>\n",
       "    </tr>\n",
       "  </thead>\n",
       "  <tbody>\n",
       "    <tr>\n",
       "      <th>1.624345</th>\n",
       "      <td>1.218257</td>\n",
       "      <td>1.218231</td>\n",
       "    </tr>\n",
       "    <tr>\n",
       "      <th>-0.611756</th>\n",
       "      <td>-0.458842</td>\n",
       "      <td>-0.464244</td>\n",
       "    </tr>\n",
       "    <tr>\n",
       "      <th>-0.528172</th>\n",
       "      <td>-0.396124</td>\n",
       "      <td>-0.400824</td>\n",
       "    </tr>\n",
       "    <tr>\n",
       "      <th>-1.072969</th>\n",
       "      <td>-0.804730</td>\n",
       "      <td>-0.812481</td>\n",
       "    </tr>\n",
       "    <tr>\n",
       "      <th>0.865408</th>\n",
       "      <td>0.649041</td>\n",
       "      <td>0.656129</td>\n",
       "    </tr>\n",
       "    <tr>\n",
       "      <th>...</th>\n",
       "      <td>...</td>\n",
       "      <td>...</td>\n",
       "    </tr>\n",
       "    <tr>\n",
       "      <th>-0.116444</th>\n",
       "      <td>-0.087331</td>\n",
       "      <td>-0.087738</td>\n",
       "    </tr>\n",
       "    <tr>\n",
       "      <th>-2.277298</th>\n",
       "      <td>-1.707968</td>\n",
       "      <td>-1.695701</td>\n",
       "    </tr>\n",
       "    <tr>\n",
       "      <th>-0.069625</th>\n",
       "      <td>-0.052228</td>\n",
       "      <td>-0.052106</td>\n",
       "    </tr>\n",
       "    <tr>\n",
       "      <th>0.353870</th>\n",
       "      <td>0.265409</td>\n",
       "      <td>0.269833</td>\n",
       "    </tr>\n",
       "    <tr>\n",
       "      <th>-0.186955</th>\n",
       "      <td>-0.140202</td>\n",
       "      <td>-0.141400</td>\n",
       "    </tr>\n",
       "  </tbody>\n",
       "</table>\n",
       "<p>1000 rows × 2 columns</p>\n",
       "</div>"
      ],
      "text/plain": [
       "                  y    y_pred\n",
       "x                            \n",
       " 1.624345  1.218257  1.218231\n",
       "-0.611756 -0.458842 -0.464244\n",
       "-0.528172 -0.396124 -0.400824\n",
       "-1.072969 -0.804730 -0.812481\n",
       " 0.865408  0.649041  0.656129\n",
       "...             ...       ...\n",
       "-0.116444 -0.087331 -0.087738\n",
       "-2.277298 -1.707968 -1.695701\n",
       "-0.069625 -0.052228 -0.052106\n",
       " 0.353870  0.265409  0.269833\n",
       "-0.186955 -0.140202 -0.141400\n",
       "\n",
       "[1000 rows x 2 columns]"
      ]
     },
     "execution_count": 13,
     "metadata": {},
     "output_type": "execute_result"
    }
   ],
   "source": [
    "y_pred = best_model.predict(df_linear.x.values)\n",
    "df_linear_augmented = augment_with_prediction(df_linear, y_pred)\n",
    "df_linear_augmented\n"
   ]
  },
  {
   "cell_type": "code",
   "execution_count": 14,
   "metadata": {},
   "outputs": [
    {
     "data": {
      "image/png": "[encoded data removed]",
      "text/plain": [
       "<Figure size 504x360 with 1 Axes>"
      ]
     },
     "metadata": {
      "needs_background": "light"
     },
     "output_type": "display_data"
    }
   ],
   "source": [
    "fig, ax = plt.subplots(1, 1, figsize=(7, 5))\n",
    "title = r\"Linear dataset - fitted with RBF Regression, $\\lambda$= {:.2e}, $\\epsilon$={:.2e}, L={}\".format(\n",
    "    best_model.lamb, best_model.eps, best_model.L\n",
    ")\n",
    "ax = plot_pandas_dataset(df_linear_augmented, \"x\", \"y\", title, ax=ax)\n",
    "fig.savefig(\"plots/1_linear_dataset_rbf_regression.pdf\", bbox_inches=\"tight\")\n"
   ]
  },
  {
   "cell_type": "markdown",
   "metadata": {},
   "source": [
    "##### 3.2 Nonlinear dataset approximated with RBF regression"
   ]
  },
  {
   "cell_type": "code",
   "execution_count": 15,
   "metadata": {},
   "outputs": [
    {
     "name": "stdout",
     "output_type": "stream",
     "text": [
      "Fitting 5 folds for each of 100 candidates, totalling 500 fits\n",
      "Best param setting achieved r2 score during cval:\n",
      "0.9999763110467864\n",
      "Best params:\n",
      "{'L': 564, 'eps': 0.9822355353012006, 'lamb': 3.3150535798148605e-05}\n",
      "Scores of best estimator refitted on full data:\n",
      "{'mae': 0.0005455367320280516,\n",
      " 'mape': 0.0035764055044734074,\n",
      " 'mse': 3.3307356795719803e-06,\n",
      " 'r2': 0.9999956367047778,\n",
      " 'rmse': 0.0018250303229184934}\n"
     ]
    }
   ],
   "source": [
    "param_grid_rbf_regression = {\n",
    "    \"lamb\": loguniform(1e-6, 1e-1),\n",
    "    \"eps\": loguniform(1e-2, 1e2),\n",
    "    \"L\": randint(1, df_nonlinear.shape[0]),\n",
    "}\n",
    "rbf = RBFRegression()\n",
    "best_model = get_best_model(param_grid_rbf_regression, rbf, df_nonlinear.x.values, df_nonlinear.y.values, n_iter=100)\n"
   ]
  },
  {
   "cell_type": "code",
   "execution_count": 16,
   "metadata": {},
   "outputs": [
    {
     "data": {
      "text/html": [
       "<div>\n",
       "<style scoped>\n",
       "    .dataframe tbody tr th:only-of-type {\n",
       "        vertical-align: middle;\n",
       "    }\n",
       "\n",
       "    .dataframe tbody tr th {\n",
       "        vertical-align: top;\n",
       "    }\n",
       "\n",
       "    .dataframe thead th {\n",
       "        text-align: right;\n",
       "    }\n",
       "</style>\n",
       "<table border=\"1\" class=\"dataframe\">\n",
       "  <thead>\n",
       "    <tr style=\"text-align: right;\">\n",
       "      <th></th>\n",
       "      <th>y</th>\n",
       "      <th>y_pred</th>\n",
       "    </tr>\n",
       "    <tr>\n",
       "      <th>x</th>\n",
       "      <th></th>\n",
       "      <th></th>\n",
       "    </tr>\n",
       "  </thead>\n",
       "  <tbody>\n",
       "    <tr>\n",
       "      <th>1.624345</th>\n",
       "      <td>-1.732828</td>\n",
       "      <td>-1.733953</td>\n",
       "    </tr>\n",
       "    <tr>\n",
       "      <th>-0.611756</th>\n",
       "      <td>-0.709996</td>\n",
       "      <td>-0.709841</td>\n",
       "    </tr>\n",
       "    <tr>\n",
       "      <th>-0.528172</th>\n",
       "      <td>-0.630857</td>\n",
       "      <td>-0.630725</td>\n",
       "    </tr>\n",
       "    <tr>\n",
       "      <th>-1.072969</th>\n",
       "      <td>-0.330732</td>\n",
       "      <td>-0.330847</td>\n",
       "    </tr>\n",
       "    <tr>\n",
       "      <th>0.865408</th>\n",
       "      <td>0.399216</td>\n",
       "      <td>0.398466</td>\n",
       "    </tr>\n",
       "    <tr>\n",
       "      <th>...</th>\n",
       "      <td>...</td>\n",
       "      <td>...</td>\n",
       "    </tr>\n",
       "    <tr>\n",
       "      <th>-0.116444</th>\n",
       "      <td>0.387484</td>\n",
       "      <td>0.387254</td>\n",
       "    </tr>\n",
       "    <tr>\n",
       "      <th>-2.277298</th>\n",
       "      <td>-0.639435</td>\n",
       "      <td>-0.641973</td>\n",
       "    </tr>\n",
       "    <tr>\n",
       "      <th>-0.069625</th>\n",
       "      <td>0.535373</td>\n",
       "      <td>0.535123</td>\n",
       "    </tr>\n",
       "    <tr>\n",
       "      <th>0.353870</th>\n",
       "      <td>1.443023</td>\n",
       "      <td>1.443449</td>\n",
       "    </tr>\n",
       "    <tr>\n",
       "      <th>-0.186955</th>\n",
       "      <td>0.166275</td>\n",
       "      <td>0.166112</td>\n",
       "    </tr>\n",
       "  </tbody>\n",
       "</table>\n",
       "<p>1000 rows × 2 columns</p>\n",
       "</div>"
      ],
      "text/plain": [
       "                  y    y_pred\n",
       "x                            \n",
       " 1.624345 -1.732828 -1.733953\n",
       "-0.611756 -0.709996 -0.709841\n",
       "-0.528172 -0.630857 -0.630725\n",
       "-1.072969 -0.330732 -0.330847\n",
       " 0.865408  0.399216  0.398466\n",
       "...             ...       ...\n",
       "-0.116444  0.387484  0.387254\n",
       "-2.277298 -0.639435 -0.641973\n",
       "-0.069625  0.535373  0.535123\n",
       " 0.353870  1.443023  1.443449\n",
       "-0.186955  0.166275  0.166112\n",
       "\n",
       "[1000 rows x 2 columns]"
      ]
     },
     "execution_count": 16,
     "metadata": {},
     "output_type": "execute_result"
    }
   ],
   "source": [
    "y_pred = best_model.predict(df_nonlinear.x.values)\n",
    "df_nonlinear_augmented = augment_with_prediction(df_nonlinear, y_pred)\n",
    "df_nonlinear_augmented\n"
   ]
  },
  {
   "cell_type": "code",
   "execution_count": 17,
   "metadata": {},
   "outputs": [
    {
     "data": {
      "image/png": "[encoded data removed]",
      "text/plain": [
       "<Figure size 504x360 with 1 Axes>"
      ]
     },
     "metadata": {
      "needs_background": "light"
     },
     "output_type": "display_data"
    }
   ],
   "source": [
    "fig, ax = plt.subplots(1, 1, figsize=(7, 5))\n",
    "title = r\"Nonlinear dataset - fitted with RBF Regression, $\\lambda$= {:.2e}, $\\epsilon$={:.2e}, L={}\".format(\n",
    "    best_model.lamb, best_model.eps, best_model.L\n",
    ")\n",
    "ax = plot_pandas_dataset(df_nonlinear_augmented, \"x\", \"y\", title, ax=ax)\n",
    "fig.savefig(\"plots/1_nonlinear_dataset_rbf_regression.pdf\", bbox_inches=\"tight\")\n"
   ]
  }
 ],
 "metadata": {
  "interpreter": {
   "hash": "9d1a0f5ee93e8ea41525e734c1178b150c3383b451469805b56a05295a9fb3ab"
  },
  "kernelspec": {
   "display_name": "Python 3.9.5 64-bit ('mlcs': venv)",
   "language": "python",
   "name": "python3"
  },
  "language_info": {
   "codemirror_mode": {
    "name": "ipython",
    "version": 3
   },
   "file_extension": ".py",
   "mimetype": "text/x-python",
   "name": "python",
   "nbconvert_exporter": "python",
   "pygments_lexer": "ipython3",
   "version": "3.9.5"
  },
  "orig_nbformat": 4
 },
 "nbformat": 4,
 "nbformat_minor": 2
}
