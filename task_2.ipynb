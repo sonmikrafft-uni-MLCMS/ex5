{
 "cells": [
  {
   "cell_type": "markdown",
   "source": [
    "## Task 2: Approximating linear vector fields"
   ],
   "metadata": {
    "collapsed": false
   }
  },
  {
   "cell_type": "code",
   "execution_count": 18,
   "outputs": [],
   "source": [
    "from helpers.data import load_dataset\n",
    "import pandas as pd\n",
    "import numpy as np"
   ],
   "metadata": {
    "collapsed": false,
    "pycharm": {
     "name": "#%%\n"
    }
   }
  },
  {
   "cell_type": "code",
   "execution_count": 9,
   "metadata": {
    "collapsed": true
   },
   "outputs": [],
   "source": [
    "#load data\n",
    "\n",
    "x_0 = load_dataset(\"data/linear_vectorfield_data_x0.txt\")\n",
    "x_1 = load_dataset(\"data/linear_vectorfield_data_x1.txt\")"
   ]
  },
  {
   "cell_type": "code",
   "execution_count": 10,
   "outputs": [
    {
     "name": "stdout",
     "output_type": "stream",
     "text": [
      "(1000, 2)\n",
      "(1000, 2)\n"
     ]
    }
   ],
   "source": [
    "print(x_0.shape)\n",
    "print(x_1.shape)"
   ],
   "metadata": {
    "collapsed": false,
    "pycharm": {
     "name": "#%%\n"
    }
   }
  },
  {
   "cell_type": "code",
   "execution_count": 17,
   "outputs": [
    {
     "name": "stdout",
     "output_type": "stream",
     "text": [
      "            x         y\n",
      "0   -0.165956  0.440649\n",
      "1   -0.999771 -0.395335\n",
      "2   -0.706488 -0.815323\n",
      "3   -0.627480 -0.308879\n",
      "4   -0.206465  0.077633\n",
      "..        ...       ...\n",
      "995  0.728288 -0.104202\n",
      "996  0.123573  0.473422\n",
      "997  0.592978 -0.104984\n",
      "998 -0.631745  0.657466\n",
      "999 -0.938004  0.893457\n",
      "\n",
      "[1000 rows x 2 columns]\n",
      "            x         y\n",
      "0   -0.147546  0.406160\n",
      "1   -0.959596 -0.311115\n",
      "2   -0.690528 -0.704497\n",
      "3   -0.603673 -0.250203\n",
      "4   -0.194475  0.079777\n",
      "..        ...       ...\n",
      "995  0.689927 -0.128006\n",
      "996  0.128453  0.422366\n",
      "997  0.561276 -0.122437\n",
      "998 -0.585318  0.623823\n",
      "999 -0.870988  0.851426\n",
      "\n",
      "[1000 rows x 2 columns]\n"
     ]
    }
   ],
   "source": [
    "print(x_0)\n",
    "print(x_1)"
   ],
   "metadata": {
    "collapsed": false,
    "pycharm": {
     "name": "#%%\n"
    }
   }
  },
  {
   "cell_type": "markdown",
   "source": [
    "### Part 1"
   ],
   "metadata": {
    "collapsed": false
   }
  },
  {
   "cell_type": "code",
   "execution_count": 11,
   "outputs": [],
   "source": [
    "delta_t = 0.1"
   ],
   "metadata": {
    "collapsed": false,
    "pycharm": {
     "name": "#%%\n"
    }
   }
  },
  {
   "cell_type": "code",
   "execution_count": 12,
   "outputs": [],
   "source": [
    "def compute_finite_difference(x_0: pd.DataFrame, x_1: pd.DataFrame, delta_t: float = 0.1)-> pd.DataFrame:\n",
    "    \"\"\"\n",
    "    computes finite difference between x_0 and x_1 for a given delta_t\n",
    "\n",
    "    Args:\n",
    "        x_0 (pd.DataFrame): points at time t=0\n",
    "        x_1 (pd.DataFrame): points at time delta_t\n",
    "        delta_t (float):\n",
    "\n",
    "    Returns: v_k, approximation of the vector field\n",
    "    \"\"\"\n",
    "    v_k = x_1 - x_0\n",
    "    v_k /= delta_t\n",
    "    return v_k\n",
    "\n",
    "v_k = compute_finite_difference(x_0, x_1, delta_t)"
   ],
   "metadata": {
    "collapsed": false,
    "pycharm": {
     "name": "#%%\n"
    }
   }
  },
  {
   "cell_type": "code",
   "execution_count": 13,
   "outputs": [
    {
     "name": "stdout",
     "output_type": "stream",
     "text": [
      "(1000, 2)\n"
     ]
    }
   ],
   "source": [
    "print(v_k.shape)"
   ],
   "metadata": {
    "collapsed": false,
    "pycharm": {
     "name": "#%%\n"
    }
   }
  },
  {
   "cell_type": "code",
   "execution_count": 16,
   "outputs": [
    {
     "name": "stdout",
     "output_type": "stream",
     "text": [
      "            x         y\n",
      "0    0.184099 -0.344892\n",
      "1    0.401757  0.842201\n",
      "2    0.159606  1.108256\n",
      "3    0.238062  0.586752\n",
      "4    0.119905  0.021439\n",
      "..        ...       ...\n",
      "995 -0.383614 -0.238036\n",
      "996  0.048802 -0.510558\n",
      "997 -0.317013 -0.174528\n",
      "998  0.464273 -0.336424\n",
      "999  0.670157 -0.420306\n",
      "\n",
      "[1000 rows x 2 columns]\n"
     ]
    }
   ],
   "source": [
    "print(v_k)"
   ],
   "metadata": {
    "collapsed": false,
    "pycharm": {
     "name": "#%%\n"
    }
   }
  },
  {
   "cell_type": "markdown",
   "source": [
    "approximate A with supervised learning problem"
   ],
   "metadata": {
    "collapsed": false
   }
  },
  {
   "cell_type": "code",
   "execution_count": 22,
   "outputs": [],
   "source": [
    "def compute_closed_form_linear_supervised_learning(x: pd.DataFrame, f: pd.DataFrame) -> pd.DataFrame:\n",
    "    \"\"\"\n",
    "    computes closed form solution for linear functions that minimizes the least-squares error\n",
    "    Args:\n",
    "        x (pd.DataFrame):\n",
    "        f (pd.DataFrame):\n",
    "\n",
    "    Returns: A, closed form solution\n",
    "    \"\"\"\n",
    "\n",
    "    x_t = x.T\n",
    "    cov = x_t @ x\n",
    "    cov_inv = pd.DataFrame(np.linalg.pinv(cov.values), cov.columns, cov.index)\n",
    "\n",
    "    result = cov_inv @ x_t\n",
    "    result = result @ f\n",
    "\n",
    "    return result.T"
   ],
   "metadata": {
    "collapsed": false,
    "pycharm": {
     "name": "#%%\n"
    }
   }
  },
  {
   "cell_type": "code",
   "execution_count": null,
   "outputs": [],
   "source": [
    "#TODO test function"
   ],
   "metadata": {
    "collapsed": false,
    "pycharm": {
     "name": "#%%\n"
    }
   }
  },
  {
   "cell_type": "code",
   "execution_count": 23,
   "outputs": [],
   "source": [
    "A = compute_closed_form_linear_supervised_learning(x_0, v_k)"
   ],
   "metadata": {
    "collapsed": false,
    "pycharm": {
     "name": "#%%\n"
    }
   }
  },
  {
   "cell_type": "code",
   "execution_count": 24,
   "outputs": [
    {
     "name": "stdout",
     "output_type": "stream",
     "text": [
      "          x         y\n",
      "x -0.493552  0.231912\n",
      "y -0.463823 -0.957376\n"
     ]
    }
   ],
   "source": [
    "print(A)"
   ],
   "metadata": {
    "collapsed": false,
    "pycharm": {
     "name": "#%%\n"
    }
   }
  },
  {
   "cell_type": "markdown",
   "source": [
    "### Part 2\n",
    "\n",
    "solve linear system: x_dot = Ax"
   ],
   "metadata": {
    "collapsed": false
   }
  },
  {
   "cell_type": "code",
   "execution_count": null,
   "outputs": [],
   "source": [],
   "metadata": {
    "collapsed": false,
    "pycharm": {
     "name": "#%%\n"
    }
   }
  }
 ],
 "metadata": {
  "kernelspec": {
   "display_name": "Python 3",
   "language": "python",
   "name": "python3"
  },
  "language_info": {
   "codemirror_mode": {
    "name": "ipython",
    "version": 2
   },
   "file_extension": ".py",
   "mimetype": "text/x-python",
   "name": "python",
   "nbconvert_exporter": "python",
   "pygments_lexer": "ipython2",
   "version": "2.7.6"
  }
 },
 "nbformat": 4,
 "nbformat_minor": 0
}